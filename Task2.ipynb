{
 "cells": [
  {
   "cell_type": "code",
   "execution_count": null,
   "id": "bb8f5b74-74d7-46d8-ab71-6c57b5538af0",
   "metadata": {},
   "outputs": [],
   "source": [
    "# Import dataset using kaggle link provided in the repo here.\n",
    "# Note that you have to use google colab for this task.\n",
    "\n"
   ]
  },
  {
   "cell_type": "code",
   "execution_count": null,
   "id": "32efdd32-13bf-41b7-b42f-0ab5dc84ba34",
   "metadata": {},
   "outputs": [],
   "source": [
    "# Write the code for directory arrangement and file naming convention as you did for Task1. \n",
    "\n",
    "\n",
    "\n"
   ]
  },
  {
   "cell_type": "code",
   "execution_count": null,
   "id": "2271cbbf-e534-4425-aabb-e878c1e6ed78",
   "metadata": {},
   "outputs": [],
   "source": [
    "# The directory structure must be maintained as asked in Task1.\n",
    "\n",
    "# /Dataset\n",
    "#     /train_set\n",
    "#         /class1\n",
    "#         /class2\n",
    "#         ......\n",
    "#         /class21\n",
    "#         /class22\n",
    "#     /test_set\n",
    "#         /class1\n",
    "#         /class2\n",
    "#         ......\n",
    "#         /class21\n",
    "#         /class22"
   ]
  },
  {
   "cell_type": "code",
   "execution_count": null,
   "id": "dd278545-9191-444e-aa6b-ba1239cb7de5",
   "metadata": {},
   "outputs": [],
   "source": [
    "# Change this code.\n",
    "train_set = \"path/to/your/train_set\"\n",
    "test_set = \"path/to/your/test_set\""
   ]
  },
  {
   "cell_type": "code",
   "execution_count": null,
   "id": "54a23d63-4977-4086-b7a9-358d399f598f",
   "metadata": {},
   "outputs": [],
   "source": [
    "# Do not change this code.\n",
    "import os\n",
    "x = os.listdir(train_set)\n",
    "y = os.listdir(test_set)\n",
    "print(f\"Found {len(x)} files in your train_set\")\n",
    "print(x)\n",
    "print(f\"Found {len(y)} files in your test_set\")\n",
    "print(y)"
   ]
  },
  {
   "cell_type": "code",
   "execution_count": null,
   "id": "ba48388d-6527-487c-8a9c-7c71abc03bed",
   "metadata": {},
   "outputs": [],
   "source": [
    "# Generate one-one image of each class. Write the code here.\n",
    "\n",
    "\n",
    "\n"
   ]
  },
  {
   "cell_type": "markdown",
   "id": "129fbd0a-b235-430d-90e6-c2399d2a74fa",
   "metadata": {},
   "source": [
    "<h1>Now we arrive at Task2</h1>"
   ]
  },
  {
   "cell_type": "code",
   "execution_count": null,
   "id": "f12147c2-c384-4b88-9d8e-496455029b4f",
   "metadata": {},
   "outputs": [],
   "source": [
    "# Write the code here.\n",
    "\n",
    "# Print the no. of items in each class in train_set. Also the sum of images in train_set and test_set.\n",
    "# Sum of images in train_set: number1\n",
    "# Sum of images in test_set: number2\n",
    "\n",
    "\n"
   ]
  },
  {
   "cell_type": "code",
   "execution_count": null,
   "id": "0ec54ac8-7a59-442c-a78a-e5f3c9a95d59",
   "metadata": {},
   "outputs": [],
   "source": [
    "# Write image pre-processing code here.\n",
    "\n",
    "\n",
    "\n"
   ]
  },
  {
   "cell_type": "code",
   "execution_count": null,
   "id": "f749c36d-3ef2-4e29-82e2-4fa0e9ac3452",
   "metadata": {},
   "outputs": [],
   "source": [
    "# Generate one-one image of each class. Write the code here.\n",
    "\n",
    "\n",
    "\n"
   ]
  },
  {
   "cell_type": "code",
   "execution_count": null,
   "id": "82d269d5-3bcf-4124-a86b-59da5d2743df",
   "metadata": {},
   "outputs": [],
   "source": [
    "# Write image augmentation code here.\n",
    "\n",
    "\n",
    "\n"
   ]
  },
  {
   "cell_type": "code",
   "execution_count": null,
   "id": "f0d44d98-f2f9-4497-a9d6-1969c0c51dc9",
   "metadata": {},
   "outputs": [],
   "source": [
    "# Generate one-one image of each class. Write the code here.\n",
    "\n",
    "\n"
   ]
  },
  {
   "cell_type": "code",
   "execution_count": null,
   "id": "c9b66f9a-e001-4e49-b95a-8cfbf49369be",
   "metadata": {},
   "outputs": [],
   "source": [
    "# Print the no. of items in each class in train_set. Write the code here.\n",
    "\n",
    "\n"
   ]
  },
  {
   "cell_type": "code",
   "execution_count": null,
   "id": "9450e74b-d16b-4050-89c9-685f15ea310a",
   "metadata": {},
   "outputs": [],
   "source": [
    "# Do we need to handle imbalanced data? Or we handled it already?\n",
    "# Write the code here if not done.\n",
    "\n",
    "\n",
    "\n"
   ]
  },
  {
   "cell_type": "markdown",
   "id": "7bdfa36f-9eec-4799-a279-55f6d7f5acbb",
   "metadata": {},
   "source": [
    "# Run all the cells and the colab file must show clear output of all the cells. "
   ]
  },
  {
   "cell_type": "markdown",
   "id": "75da70f5-ff0f-4161-b56d-f178c48291f0",
   "metadata": {},
   "source": [
    "## Write a clean and commented code. Explaining the why and what of the code will help a lot :)"
   ]
  },
  {
   "cell_type": "code",
   "execution_count": null,
   "id": "08587e16-043d-4b82-9484-e85fb2531458",
   "metadata": {},
   "outputs": [],
   "source": []
  }
 ],
 "metadata": {
  "kernelspec": {
   "display_name": "Python 3 (ipykernel)",
   "language": "python",
   "name": "python3"
  },
  "language_info": {
   "codemirror_mode": {
    "name": "ipython",
    "version": 3
   },
   "file_extension": ".py",
   "mimetype": "text/x-python",
   "name": "python",
   "nbconvert_exporter": "python",
   "pygments_lexer": "ipython3",
   "version": "3.11.5"
  }
 },
 "nbformat": 4,
 "nbformat_minor": 5
}
